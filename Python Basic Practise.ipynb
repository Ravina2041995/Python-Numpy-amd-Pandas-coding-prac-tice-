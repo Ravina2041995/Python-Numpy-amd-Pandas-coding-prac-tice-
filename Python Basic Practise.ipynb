{
 "cells": [
  {
   "cell_type": "code",
   "execution_count": null,
   "id": "28f0ff8c",
   "metadata": {},
   "outputs": [],
   "source": []
  },
  {
   "cell_type": "markdown",
   "id": "23267522",
   "metadata": {},
   "source": [
    "Drawing Traingle "
   ]
  },
  {
   "cell_type": "code",
   "execution_count": 86,
   "id": "54c73378",
   "metadata": {},
   "outputs": [
    {
     "name": "stdout",
     "output_type": "stream",
     "text": [
      "   /|\n",
      "  / |\n",
      " /  |\n",
      "/___|\n"
     ]
    }
   ],
   "source": [
    "print(\"   /|\")\n",
    "print(\"  / |\")\n",
    "print(\" /  |\")\n",
    "print(\"/___|\")"
   ]
  },
  {
   "cell_type": "markdown",
   "id": "3240bd16",
   "metadata": {},
   "source": [
    "Variable and data structure "
   ]
  },
  {
   "cell_type": "code",
   "execution_count": 87,
   "id": "5fb659b3",
   "metadata": {},
   "outputs": [
    {
     "name": "stdout",
     "output_type": "stream",
     "text": [
      "Hello, Ravina and age is  2\n"
     ]
    }
   ],
   "source": [
    "name = \"Ravina\"\n",
    "age = 2\n",
    "print(\"Hello, \" +name+ \" and age is \",+age)"
   ]
  },
  {
   "cell_type": "markdown",
   "id": "c1e7587d",
   "metadata": {},
   "source": [
    "Working with Strings"
   ]
  },
  {
   "cell_type": "code",
   "execution_count": 88,
   "id": "d0c5300d",
   "metadata": {},
   "outputs": [
    {
     "name": "stdout",
     "output_type": "stream",
     "text": [
      "Hello\n",
      " Ravina\n",
      "Girafee\"Academy\n"
     ]
    }
   ],
   "source": [
    "print(\"Hello\\n Ravina\") #Seperating into 2 different lines\n",
    "print(\"Girafee\\\"Academy\") #Escape Character to use qutation, after \\ it will print next qotation as it is\n"
   ]
  },
  {
   "cell_type": "markdown",
   "id": "328e33d2",
   "metadata": {},
   "source": [
    "Concatination"
   ]
  },
  {
   "cell_type": "code",
   "execution_count": 89,
   "id": "7da583ce",
   "metadata": {},
   "outputs": [
    {
     "name": "stdout",
     "output_type": "stream",
     "text": [
      "hiBye\n"
     ]
    }
   ],
   "source": [
    "p = \"hi\"\n",
    "r = \"Bye\"\n",
    "print(p +r)"
   ]
  },
  {
   "cell_type": "markdown",
   "id": "cfa81cd9",
   "metadata": {},
   "source": [
    "String function"
   ]
  },
  {
   "cell_type": "code",
   "execution_count": 90,
   "id": "59076988",
   "metadata": {},
   "outputs": [
    {
     "name": "stdout",
     "output_type": "stream",
     "text": [
      "HI\n",
      "False\n",
      "True\n",
      "2\n",
      "H\n",
      "1\n",
      "0\n",
      "ii\n"
     ]
    }
   ],
   "source": [
    "p = \"Hi\"\n",
    "print(p.upper()) #Convert to upper\n",
    "print(p.isupper()) #Check if it's upper\n",
    "print(p.upper().isupper()) \n",
    "print(len(p))       #Length of string\n",
    "print(p[0])        #Getting some specific , string start from 0\n",
    "print(p.index(\"i\")) #Give the index number for that character\n",
    "print(p.index(\"Hi\")) #If that character or word is not given in the actuallly string, it will give error \n",
    "print(p.replace(\"H\", \"i\")) #Replace will have to provoide 2 character 1st which you want to replace and second with the character that you want to replace"
   ]
  },
  {
   "cell_type": "markdown",
   "id": "931117ed",
   "metadata": {},
   "source": [
    "# Working with numbers"
   ]
  },
  {
   "cell_type": "code",
   "execution_count": 91,
   "id": "3c5e6bdc",
   "metadata": {},
   "outputs": [
    {
     "name": "stdout",
     "output_type": "stream",
     "text": [
      "2\n",
      "2.09\n",
      "75\n",
      "1\n",
      "28\n",
      "28\n"
     ]
    },
    {
     "ename": "TypeError",
     "evalue": "unsupported operand type(s) for +: 'int' and 'str'",
     "output_type": "error",
     "traceback": [
      "\u001b[1;31m---------------------------------------------------------------------------\u001b[0m",
      "\u001b[1;31mTypeError\u001b[0m                                 Traceback (most recent call last)",
      "\u001b[1;32m~\\AppData\\Local\\Temp/ipykernel_9472/1218025505.py\u001b[0m in \u001b[0;36m<module>\u001b[1;34m\u001b[0m\n\u001b[0;32m      7\u001b[0m \u001b[0mprint\u001b[0m\u001b[1;33m(\u001b[0m\u001b[0mstr\u001b[0m\u001b[1;33m(\u001b[0m\u001b[0mx\u001b[0m\u001b[1;33m)\u001b[0m\u001b[1;33m)\u001b[0m \u001b[1;31m# convert number to string\u001b[0m\u001b[1;33m\u001b[0m\u001b[1;33m\u001b[0m\u001b[0m\n\u001b[0;32m      8\u001b[0m \u001b[0mx\u001b[0m\u001b[1;33m=\u001b[0m\u001b[1;36m3\u001b[0m\u001b[1;33m\u001b[0m\u001b[1;33m\u001b[0m\u001b[0m\n\u001b[1;32m----> 9\u001b[1;33m \u001b[0mprint\u001b[0m\u001b[1;33m(\u001b[0m\u001b[0mx\u001b[0m\u001b[1;33m+\u001b[0m \u001b[1;34m\"Hi\"\u001b[0m\u001b[1;33m)\u001b[0m \u001b[1;31m# you can't put number next to string,should convert into string\u001b[0m\u001b[1;33m\u001b[0m\u001b[1;33m\u001b[0m\u001b[0m\n\u001b[0m",
      "\u001b[1;31mTypeError\u001b[0m: unsupported operand type(s) for +: 'int' and 'str'"
     ]
    }
   ],
   "source": [
    "print(2)\n",
    "print(2.09)\n",
    "print(3+8*(6+3)) # all arrethematics problem\n",
    "print(10%3) #Gives remainder\n",
    "x = 4*7\n",
    "print(x)\n",
    "print(str(x)) # convert number to string\n",
    "x=3\n",
    "print(x+ \"Hi\") # you can't put number next to string,should convert into string\n"
   ]
  },
  {
   "cell_type": "code",
   "execution_count": null,
   "id": "19b084e3",
   "metadata": {},
   "outputs": [],
   "source": [
    "x=-8\n",
    "print(abs(x)) #Give an absolute number\n",
    "print(pow(4,2)) #Taking number with specific powers\n",
    "print(max(4,8))\n",
    "print(round(3.7))"
   ]
  },
  {
   "cell_type": "code",
   "execution_count": null,
   "id": "831f5655",
   "metadata": {},
   "outputs": [],
   "source": [
    "from math import *  #Import math module from lib\n",
    "my_num = -5\n",
    "print(floor(3.7)) #Gives the lowest no\n",
    "print(sqrt(36)) #give sqrt of the number \n",
    "print(ceil(3.8)) #Round the number "
   ]
  },
  {
   "cell_type": "markdown",
   "id": "2ed65a5a",
   "metadata": {},
   "source": [
    "# Getting Input from user"
   ]
  },
  {
   "cell_type": "code",
   "execution_count": null,
   "id": "5bb8d8f6",
   "metadata": {},
   "outputs": [],
   "source": [
    "y = input(\"Your name is: \")\n",
    "print(\"Hello \" +y)"
   ]
  },
  {
   "cell_type": "markdown",
   "id": "ecd0c7e5",
   "metadata": {},
   "source": [
    "# Building Calculator"
   ]
  },
  {
   "cell_type": "code",
   "execution_count": null,
   "id": "701b6e79",
   "metadata": {},
   "outputs": [],
   "source": [
    "num1 = input(\"Enter a no: \") #By default it take as string, so have to convert into number\n",
    "num2 = input(\"Enter a no: \")\n",
    "result = int(num1) + int(num2) #INt will only take whole no\n",
    "print(result)"
   ]
  },
  {
   "cell_type": "code",
   "execution_count": null,
   "id": "b043617c",
   "metadata": {},
   "outputs": [],
   "source": [
    "num1 = input(\"Enter a no: \") #By default it take as string, so have to convert into number\n",
    "num2 = input(\"Enter a no: \")\n",
    "result = float(num1) + float(num2) #INt will only take whole no, so use float to take float number\n",
    "print(result)"
   ]
  },
  {
   "cell_type": "markdown",
   "id": "e0a09507",
   "metadata": {},
   "source": [
    "# Mad lives games"
   ]
  },
  {
   "cell_type": "code",
   "execution_count": null,
   "id": "0e4a5b73",
   "metadata": {},
   "outputs": [],
   "source": [
    "color= input(\"Enter a color: \")\n",
    "noun= input(\"Enter a noun: \")\n",
    "celebrity= input(\"Enter a celebrity: \")\n",
    "\n",
    "print(\"Rose are\" +color)\n",
    "print(noun+\" are red\")\n",
    "print(\"I love\" +celebrity)"
   ]
  },
  {
   "cell_type": "markdown",
   "id": "bcade161",
   "metadata": {},
   "source": [
    "# List"
   ]
  },
  {
   "cell_type": "code",
   "execution_count": null,
   "id": "9e348584",
   "metadata": {},
   "outputs": [],
   "source": [
    "friends = [\"k\",2,2.5,\"hu\",\"o\"]\n",
    "print(friends)\n",
    "friends[2]  #Print list with index,starts with 0\n",
    "print(friends[-1]) #Print list from back of the list\n",
    "print(friends[-2]) #Print list from back of the list\n",
    "print(friends[1:3]) #Print list starting from 1, till (n-1) item\n",
    "friends[1] = 'mike' #Modify list\n",
    "print(friends[1])"
   ]
  },
  {
   "cell_type": "markdown",
   "id": "c4e96951",
   "metadata": {},
   "source": [
    "# List Function"
   ]
  },
  {
   "cell_type": "code",
   "execution_count": null,
   "id": "40c4dcce",
   "metadata": {},
   "outputs": [],
   "source": [
    "print(friends)\n",
    "l = [\"k\",2,2.5,\"hu\",\"o\"]\n",
    "print(friends.extend(l)) #Appending two list together \n",
    "print(friends.append(\"hi\")) #Appending a list with new value"
   ]
  },
  {
   "cell_type": "code",
   "execution_count": 93,
   "id": "e4af9944",
   "metadata": {},
   "outputs": [
    {
     "name": "stdout",
     "output_type": "stream",
     "text": [
      "['k']\n"
     ]
    }
   ],
   "source": [
    "friends.insert(1,\"k\") #append will always end element to end of the list, to add at particular index use insert function, give two parameter(index, new_element_you_want)\n",
    "print(friends)"
   ]
  },
  {
   "cell_type": "code",
   "execution_count": 94,
   "id": "f2692b8e",
   "metadata": {},
   "outputs": [
    {
     "name": "stdout",
     "output_type": "stream",
     "text": [
      "0\n"
     ]
    }
   ],
   "source": [
    "#To check if specific element is in the list\n",
    "print(friends.index(\"k\"))"
   ]
  },
  {
   "cell_type": "code",
   "execution_count": 101,
   "id": "37c4f2fc",
   "metadata": {},
   "outputs": [
    {
     "name": "stdout",
     "output_type": "stream",
     "text": [
      "1\n"
     ]
    }
   ],
   "source": [
    "#Check if duplicate elemenyt is present in list\n",
    "friends = [\"k\",\"r\",\"s\",\"hu\",\"o\"]\n",
    "print(friends.count(\"s\")) #Count no of 2 in list"
   ]
  },
  {
   "cell_type": "code",
   "execution_count": 102,
   "id": "e0647d8f",
   "metadata": {},
   "outputs": [
    {
     "name": "stdout",
     "output_type": "stream",
     "text": [
      "['hu', 'k', 'o', 'r', 's']\n"
     ]
    }
   ],
   "source": [
    "friends.sort()\n",
    "print(friends)"
   ]
  },
  {
   "cell_type": "code",
   "execution_count": 103,
   "id": "54df8417",
   "metadata": {},
   "outputs": [
    {
     "data": {
      "text/plain": [
       "['s', 'r', 'o', 'k', 'hu']"
      ]
     },
     "execution_count": 103,
     "metadata": {},
     "output_type": "execute_result"
    }
   ],
   "source": [
    "friends.reverse() #Making descending order of list\n",
    "friends"
   ]
  },
  {
   "cell_type": "code",
   "execution_count": 104,
   "id": "15445d04",
   "metadata": {},
   "outputs": [
    {
     "data": {
      "text/plain": [
       "['s', 'r', 'o', 'k', 'hu']"
      ]
     },
     "execution_count": 104,
     "metadata": {},
     "output_type": "execute_result"
    }
   ],
   "source": [
    "friends2=friends.copy() #Making Codpy of list\n",
    "friends2"
   ]
  },
  {
   "cell_type": "code",
   "execution_count": null,
   "id": "7a220257",
   "metadata": {},
   "outputs": [],
   "source": [
    "print(friends.index(\"i\")) #if element is not in list it wil give error"
   ]
  },
  {
   "cell_type": "code",
   "execution_count": null,
   "id": "d5e0ba46",
   "metadata": {},
   "outputs": [],
   "source": [
    "friends.remove('k') #Remove specfic element from list\n",
    "friends"
   ]
  },
  {
   "cell_type": "code",
   "execution_count": null,
   "id": "ceb26e05",
   "metadata": {},
   "outputs": [],
   "source": [
    "friends.pop() #Remove last elemet from list and print in the console whichever element is removed\n",
    "friends.clear() #Clear list and gives an empty list\n",
    "friends"
   ]
  },
  {
   "cell_type": "markdown",
   "id": "113c168f",
   "metadata": {},
   "source": [
    "# Tuple: similar to list,but its immutable(can't change)"
   ]
  },
  {
   "cell_type": "code",
   "execution_count": 105,
   "id": "0198d997",
   "metadata": {},
   "outputs": [
    {
     "name": "stdout",
     "output_type": "stream",
     "text": [
      "5\n"
     ]
    }
   ],
   "source": [
    "x = (4,5)\n",
    "print(x[1])"
   ]
  },
  {
   "cell_type": "code",
   "execution_count": 106,
   "id": "19d147d2",
   "metadata": {},
   "outputs": [
    {
     "ename": "TypeError",
     "evalue": "'tuple' object does not support item assignment",
     "output_type": "error",
     "traceback": [
      "\u001b[1;31m---------------------------------------------------------------------------\u001b[0m",
      "\u001b[1;31mTypeError\u001b[0m                                 Traceback (most recent call last)",
      "\u001b[1;32m~\\AppData\\Local\\Temp/ipykernel_9472/2967485318.py\u001b[0m in \u001b[0;36m<module>\u001b[1;34m\u001b[0m\n\u001b[0;32m      1\u001b[0m \u001b[1;31m##Can't change tuple\u001b[0m\u001b[1;33m\u001b[0m\u001b[1;33m\u001b[0m\u001b[0m\n\u001b[1;32m----> 2\u001b[1;33m \u001b[0mx\u001b[0m\u001b[1;33m[\u001b[0m\u001b[1;36m1\u001b[0m\u001b[1;33m]\u001b[0m \u001b[1;33m=\u001b[0m \u001b[1;36m0\u001b[0m\u001b[1;33m\u001b[0m\u001b[1;33m\u001b[0m\u001b[0m\n\u001b[0m",
      "\u001b[1;31mTypeError\u001b[0m: 'tuple' object does not support item assignment"
     ]
    }
   ],
   "source": [
    "##Can't change tuple \n",
    "x[1] = 0"
   ]
  },
  {
   "cell_type": "markdown",
   "id": "bad68de0",
   "metadata": {},
   "source": [
    "\n",
    "# Difference between tuple and list"
   ]
  },
  {
   "cell_type": "markdown",
   "id": "d8220c71",
   "metadata": {},
   "source": [
    "Tuple: Data which never going to change(immutable)\n",
    "List: Can be changed(mutated)"
   ]
  },
  {
   "cell_type": "markdown",
   "id": "c0333855",
   "metadata": {},
   "source": [
    "List of tuple "
   ]
  },
  {
   "cell_type": "code",
   "execution_count": 110,
   "id": "ae1040f0",
   "metadata": {},
   "outputs": [],
   "source": [
    "c = [(2,3),(4,5)]"
   ]
  },
  {
   "cell_type": "markdown",
   "id": "a5c36191",
   "metadata": {},
   "source": [
    "# Functions"
   ]
  },
  {
   "cell_type": "code",
   "execution_count": 125,
   "id": "c6d6b60c",
   "metadata": {},
   "outputs": [
    {
     "name": "stdout",
     "output_type": "stream",
     "text": [
      "HI User\n"
     ]
    }
   ],
   "source": [
    "def sayhi(): #Defining function\n",
    "    print(\"HI User\")\n",
    "    \n",
    "sayhi() #Caling function"
   ]
  },
  {
   "cell_type": "code",
   "execution_count": 124,
   "id": "7fe3edb7",
   "metadata": {},
   "outputs": [
    {
     "name": "stdout",
     "output_type": "stream",
     "text": [
      "HI Mike you are 2\n"
     ]
    }
   ],
   "source": [
    "def sayhi(name,age): #Defining function with parameters\n",
    "    print(\"HI \"+name, \"you are \" + age)\n",
    "    \n",
    "sayhi(\"Mike\",\"2\") #Caling function with parameter"
   ]
  },
  {
   "cell_type": "markdown",
   "id": "5a14637d",
   "metadata": {},
   "source": [
    "Return Keyword"
   ]
  },
  {
   "cell_type": "code",
   "execution_count": 132,
   "id": "2cad7d69",
   "metadata": {},
   "outputs": [
    {
     "data": {
      "text/plain": [
       "27"
      ]
     },
     "execution_count": 132,
     "metadata": {},
     "output_type": "execute_result"
    }
   ],
   "source": [
    "def cube(num): #Defining function with parameters\n",
    "    return num*num*num  #Return value from function\n",
    "cube(3) #Caling function with paramete"
   ]
  },
  {
   "cell_type": "code",
   "execution_count": 133,
   "id": "284906a4",
   "metadata": {},
   "outputs": [
    {
     "name": "stdout",
     "output_type": "stream",
     "text": [
      "27\n"
     ]
    }
   ],
   "source": [
    "def cube(num): #Defining function with parameters\n",
    "    return num*num*num  #Return value from function, after return you can't put any code\n",
    "result = cube(3) #Caling function with paramete\n",
    "print(result)"
   ]
  },
  {
   "cell_type": "markdown",
   "id": "3acc887c",
   "metadata": {},
   "source": [
    "# If Statements"
   ]
  },
  {
   "cell_type": "code",
   "execution_count": 142,
   "id": "f054abaa",
   "metadata": {},
   "outputs": [
    {
     "name": "stdout",
     "output_type": "stream",
     "text": [
      "you are a male or tall or both\n"
     ]
    }
   ],
   "source": [
    "if_male = True\n",
    "if_tall = False\n",
    "\n",
    "if if_male or if_tall: ## if one of them is true than it will get execute\n",
    "    print('you are a male or tall or both')\n",
    "else:\n",
    "     print('you are not a male')"
   ]
  },
  {
   "cell_type": "code",
   "execution_count": 144,
   "id": "1fdda99d",
   "metadata": {},
   "outputs": [
    {
     "name": "stdout",
     "output_type": "stream",
     "text": [
      "you are a male and not tall\n"
     ]
    }
   ],
   "source": [
    "if_male = True\n",
    "if_tall = False\n",
    "\n",
    "if if_male and if_tall: #if one of them is true than it will get execute\n",
    "    print('you are a male or tall or both')\n",
    "elif if_male and not(if_tall):\n",
    "    print('you are a male and not tall')\n",
    "elif not(if_male) and if_tall:\n",
    "    print('you are not a male but tall')\n",
    "else:\n",
    "     print('you are not a male')"
   ]
  },
  {
   "cell_type": "markdown",
   "id": "3035feb2",
   "metadata": {},
   "source": [
    "If Statements & Comparisions\n"
   ]
  },
  {
   "cell_type": "code",
   "execution_count": 146,
   "id": "f3e02a17",
   "metadata": {},
   "outputs": [
    {
     "data": {
      "text/plain": [
       "6"
      ]
     },
     "execution_count": 146,
     "metadata": {},
     "output_type": "execute_result"
    }
   ],
   "source": [
    "def max_num(x,y,z):  #Print biggest number, we can compare strings also\n",
    "    if x>=y and x>=z:\n",
    "        return x\n",
    "    elif y>=x and y>=z:\n",
    "        return y\n",
    "    else:\n",
    "        return z\n",
    "    \n",
    "max_num(2,3,6)"
   ]
  },
  {
   "cell_type": "markdown",
   "id": "cec8b1eb",
   "metadata": {},
   "source": [
    "# Dictionaries: key value pair, keys should be uniqie"
   ]
  },
  {
   "cell_type": "code",
   "execution_count": 149,
   "id": "2a092341",
   "metadata": {},
   "outputs": [
    {
     "name": "stdout",
     "output_type": "stream",
     "text": [
      "january\n",
      "january\n",
      "Not a valid key\n"
     ]
    }
   ],
   "source": [
    "monthConversion = { \"jan\":\"january\", \"feb\":\"february\", \"jun\":\"june\"}\n",
    "print(monthConversion[\"jan\"]) #Accessing dic by key, it will give value for that key\n",
    "print(monthConversion.get(\"jan\")) #getting value from key\n",
    "print(monthConversion.get(\"hi\",\"Not a valid key\")) #If that key is not present in dictionaries, you can pass an default value to that key, it will print that default msg\n"
   ]
  },
  {
   "cell_type": "markdown",
   "id": "c5c640a0",
   "metadata": {},
   "source": [
    "# Whole Loop: While"
   ]
  },
  {
   "cell_type": "code",
   "execution_count": 1,
   "id": "301bbe24",
   "metadata": {},
   "outputs": [
    {
     "name": "stdout",
     "output_type": "stream",
     "text": [
      "1\n",
      "2\n",
      "3\n",
      "4\n",
      "5\n",
      "6\n",
      "7\n",
      "8\n",
      "9\n",
      "10\n",
      "Done\n"
     ]
    }
   ],
   "source": [
    "x=1\n",
    "while x <= 10:\n",
    "    print(x)\n",
    "    x += 1\n",
    "print(\"Done\")"
   ]
  },
  {
   "cell_type": "markdown",
   "id": "0fb77159",
   "metadata": {},
   "source": [
    "# Building a Basic Game"
   ]
  },
  {
   "cell_type": "code",
   "execution_count": 2,
   "id": "9230c4a9",
   "metadata": {},
   "outputs": [
    {
     "name": "stdout",
     "output_type": "stream",
     "text": [
      "Enter guess: f\n",
      "Enter guess: f\n",
      "Enter guess: f\n",
      "Out of gusses\n"
     ]
    }
   ],
   "source": [
    "secret_word = \"hi\"\n",
    "guess = \"\"\n",
    "guess_count = 0\n",
    "guess_limit = 3\n",
    "out_of_guess = False\n",
    "while guess!=secret_word and not(out_of_guess):\n",
    "    if guess_count < guess_limit:\n",
    "        guess=input(\"Enter guess: \")\n",
    "        guess_count += 1\n",
    "    else:\n",
    "        out_of_guess = True\n",
    "if out_of_guess:\n",
    "    print(\"Out of gusses\")\n",
    "else:\n",
    "    print(\"You win\")\n"
   ]
  },
  {
   "cell_type": "markdown",
   "id": "e964eb10",
   "metadata": {},
   "source": [
    "# For Loop"
   ]
  },
  {
   "cell_type": "code",
   "execution_count": 3,
   "id": "0ee997c3",
   "metadata": {},
   "outputs": [
    {
     "name": "stdout",
     "output_type": "stream",
     "text": [
      "G\n",
      "i\n",
      "r\n",
      "a\n",
      "f\n",
      "f\n",
      "e\n",
      " \n",
      "A\n",
      "c\n",
      "a\n",
      "d\n",
      "e\n",
      "m\n",
      "y\n"
     ]
    }
   ],
   "source": [
    "for letter in \"Giraffe Academy\": # It will lopp through string provided\n",
    "    print(letter)"
   ]
  },
  {
   "cell_type": "code",
   "execution_count": 9,
   "id": "628be446",
   "metadata": {},
   "outputs": [
    {
     "name": "stdout",
     "output_type": "stream",
     "text": [
      "hi\n",
      "hello\n",
      "bye\n",
      "hi\n",
      "hello\n",
      "bye\n"
     ]
    }
   ],
   "source": [
    "friend = ['hi','hello','bye'] #For loop in list\n",
    "for i in friend:\n",
    "    print(i)\n",
    "    \n",
    "for j in range(len(friend)):\n",
    "    print(friend[j])"
   ]
  },
  {
   "cell_type": "code",
   "execution_count": 5,
   "id": "70b0d993",
   "metadata": {},
   "outputs": [
    {
     "name": "stdout",
     "output_type": "stream",
     "text": [
      "0\n",
      "1\n",
      "2\n",
      "3\n",
      "4\n",
      "5\n",
      "6\n",
      "7\n",
      "8\n",
      "9\n"
     ]
    }
   ],
   "source": [
    "for index in range(10):#For loop through numbers\n",
    "    print(index)"
   ]
  },
  {
   "cell_type": "code",
   "execution_count": 6,
   "id": "d06e2db6",
   "metadata": {},
   "outputs": [
    {
     "name": "stdout",
     "output_type": "stream",
     "text": [
      "3\n",
      "4\n",
      "5\n",
      "6\n",
      "7\n",
      "8\n",
      "9\n"
     ]
    }
   ],
   "source": [
    "for index in range(3,10):#For loop through numbers, second value will not be included in range number\n",
    "    print(index)"
   ]
  },
  {
   "cell_type": "markdown",
   "id": "0dd13efd",
   "metadata": {},
   "source": [
    "# Exponent Functions"
   ]
  },
  {
   "cell_type": "code",
   "execution_count": 10,
   "id": "cef85bf0",
   "metadata": {},
   "outputs": [
    {
     "name": "stdout",
     "output_type": "stream",
     "text": [
      "9\n"
     ]
    }
   ],
   "source": [
    "def raise_power(base_num, power_num):\n",
    "    result = 1\n",
    "    for index in range(power_num):\n",
    "        result = result * base_num\n",
    "    return result\n",
    "print(raise_power(3,2))"
   ]
  },
  {
   "cell_type": "markdown",
   "id": "a9d4ed80",
   "metadata": {},
   "source": [
    "# 2-D list and nested List"
   ]
  },
  {
   "cell_type": "code",
   "execution_count": 14,
   "id": "e7457df1",
   "metadata": {},
   "outputs": [
    {
     "name": "stdout",
     "output_type": "stream",
     "text": [
      "1\n",
      "0\n"
     ]
    }
   ],
   "source": [
    "x = [[1,2,3],[3,4,5],[0]]\n",
    "print(x[0][0]) ##--> o row and 0 column\n",
    "print(x[2][0]) ##--> 2 row and 1 column "
   ]
  },
  {
   "cell_type": "markdown",
   "id": "47eab699",
   "metadata": {},
   "source": [
    "Nested For loop"
   ]
  },
  {
   "cell_type": "code",
   "execution_count": 17,
   "id": "5ef8c354",
   "metadata": {},
   "outputs": [
    {
     "name": "stdout",
     "output_type": "stream",
     "text": [
      "[1, 2, 3]\n",
      "[3, 4, 5]\n",
      "[0]\n",
      "1\n",
      "2\n",
      "3\n",
      "3\n",
      "4\n",
      "5\n",
      "0\n"
     ]
    }
   ],
   "source": [
    "for row in x: #Showing all the row from grip\n",
    "    print(row)\n",
    "    \n",
    "for row in x: #Showing all the elements from grip\n",
    "    for col in row:\n",
    "        print(col)"
   ]
  },
  {
   "cell_type": "markdown",
   "id": "29f1cd42",
   "metadata": {},
   "source": [
    "# Building a Translator"
   ]
  },
  {
   "cell_type": "code",
   "execution_count": 24,
   "id": "56253a63",
   "metadata": {},
   "outputs": [
    {
     "name": "stdout",
     "output_type": "stream",
     "text": [
      "Enter a phasedog\n",
      "dgg\n"
     ]
    }
   ],
   "source": [
    "def translate(phrase):\n",
    "    translation = \"\"\n",
    "    for i in phrase:\n",
    "        if i in \"AEIOUaeiou\":\n",
    "            translation = translation + \"g\"\n",
    "        else:\n",
    "            translation = translation + ido\n",
    "    return translation\n",
    "print(translate(input(\"Enter a phase\")))"
   ]
  },
  {
   "cell_type": "markdown",
   "id": "7386b229",
   "metadata": {},
   "source": [
    "# Try Except"
   ]
  },
  {
   "cell_type": "code",
   "execution_count": 29,
   "id": "26b9caf4",
   "metadata": {},
   "outputs": [
    {
     "name": "stdout",
     "output_type": "stream",
     "text": [
      "Enter a numberf\n",
      "Invalid\n"
     ]
    }
   ],
   "source": [
    "\n",
    "try:\n",
    "    n = int(input(\"Enter a number\"))\n",
    "    print(n)\n",
    "    value = 10/0\n",
    "except ZeroDivisionError as err: #Except with specific error\n",
    "    print(\"Invalid numbers\") \n",
    "    print(err) \n",
    "except ValueError:  #Except with value error \n",
    "    print(\"Invalid\") "
   ]
  },
  {
   "cell_type": "markdown",
   "id": "86edd78a",
   "metadata": {},
   "source": [
    "# Reading Files"
   ]
  },
  {
   "cell_type": "code",
   "execution_count": null,
   "id": "be3a6f53",
   "metadata": {},
   "outputs": [],
   "source": [
    "employee = open(\"\",'r') #r mode means read only: w means write: r+ means reading and writing\n",
    "employee.close #Close a file\n",
    "\n",
    "#Check if file is readable\n",
    "print(employee.readable())\n",
    "\n",
    "#Read whole file\n",
    "print(employee.read()) \n",
    "#Read line\n",
    "print(employee.readline())\n",
    "\n",
    "#Read all the lines and put that in array\n",
    "print(employee.readlines())\n",
    "\n",
    "#Read all the lines and put that in array for index 1\n",
    "print(employee.readlines()[1])\n",
    "\n",
    "#Read all the lines from file and put in array\n",
    "for e in employee.readlines():\n",
    "    print(e)\n",
    "employee.close() \n",
    "\n"
   ]
  },
  {
   "cell_type": "markdown",
   "id": "25357586",
   "metadata": {},
   "source": [
    "# Writing a file"
   ]
  },
  {
   "cell_type": "code",
   "execution_count": null,
   "id": "89197c5d",
   "metadata": {},
   "outputs": [],
   "source": [
    "employee = open(\"\",'r') \n",
    "print(employee.read())\n",
    "employee.close()\n",
    "#Writing a file\n",
    "\n",
    "employee = open(\"\",'a') \n",
    "employee.write(\"\") #Adds to the end of file\n",
    "#Adds to the end of file in new line\n",
    "employee.write(\"\\n \")  #Adds to the end of file on the new line\n",
    "\n",
    "\n",
    "\n",
    "#Overwrite a file\n",
    "employee = open(\"\",'w') \n",
    "employee.write(\"\") #Adds to the end of file\n",
    "\n",
    "\n",
    "#Create a new file\n",
    "employee = open(\"newfile name\",'w') \n",
    "employee.write(\"\") #Adds to the end of file"
   ]
  },
  {
   "cell_type": "markdown",
   "id": "d25e94b0",
   "metadata": {},
   "source": [
    "# Modules and pipe:"
   ]
  },
  {
   "cell_type": "code",
   "execution_count": null,
   "id": "d384d1ba",
   "metadata": {},
   "outputs": [],
   "source": [
    "#Import file , to use all the functions from another file that we are importing\n",
    "\n",
    "import filename\n",
    "print(filename.methodname())"
   ]
  },
  {
   "cell_type": "markdown",
   "id": "2a291a4f",
   "metadata": {},
   "source": [
    "# Classes and object"
   ]
  },
  {
   "cell_type": "code",
   "execution_count": null,
   "id": "65841c34",
   "metadata": {},
   "outputs": [],
   "source": [
    "class student: # Define student class\n",
    "    def __init__(self,name,major,gpa,is_on_probation): # Define student attributr\n",
    "            self.name = name\n",
    "            self.major = major\n",
    "            self.gpa=gpa\n",
    "            self.is_on_probation=is_on_probation\n",
    "            \n",
    "#Defining object of student\n",
    "from student import student\n",
    "\n",
    "student1= student(\"R\",23,\"Computer\",3.5,No)\n",
    "print(student1.name) #PRint object of student class\n",
    "student2= student(\"R\",23,\"Computer\",3.5,yes)\n",
    "print(student2.name)"
   ]
  },
  {
   "cell_type": "code",
   "execution_count": null,
   "id": "74105e54",
   "metadata": {},
   "outputs": [],
   "source": []
  }
 ],
 "metadata": {
  "kernelspec": {
   "display_name": "Python 3 (ipykernel)",
   "language": "python",
   "name": "python3"
  },
  "language_info": {
   "codemirror_mode": {
    "name": "ipython",
    "version": 3
   },
   "file_extension": ".py",
   "mimetype": "text/x-python",
   "name": "python",
   "nbconvert_exporter": "python",
   "pygments_lexer": "ipython3",
   "version": "3.9.7"
  }
 },
 "nbformat": 4,
 "nbformat_minor": 5
}
